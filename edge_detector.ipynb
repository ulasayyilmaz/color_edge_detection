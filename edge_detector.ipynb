{
 "cells": [
  {
   "cell_type": "code",
   "execution_count": 15,
   "metadata": {},
   "outputs": [],
   "source": [
    "import cv2\n",
    "import numpy as np\n",
    "import os"
   ]
  },
  {
   "cell_type": "code",
   "execution_count": 16,
   "metadata": {},
   "outputs": [],
   "source": [
    "def color_edge_detection(image):\n",
    "    # Convert the image to CIELAB color space\n",
    "    lab_image = cv2.cvtColor(image, cv2.COLOR_BGR2Lab)\n",
    "\n",
    "    L1, a1, b1 = lab_image[150, 150]\n",
    "    print(f\"Pixel at ({150}, {150}): L={L1}, a={a1}, b={b1}\")\n",
    "\n",
    "    L2, a2, b2 = lab_image[2, 2]\n",
    "    print(f\"Pixel at ({2}, {2}): L={L2}, a={a2}, b={b2}\")\n",
    "    \n",
    "    # Compute gradients for each color channel\n",
    "    grad_x = cv2.Sobel(lab_image[:,:,0], cv2.CV_64F, 1, 0, ksize=3)\n",
    "    grad_y = cv2.Sobel(lab_image[:,:,0], cv2.CV_64F, 0, 1, ksize=3)\n",
    "    gradient_mag = np.sqrt(grad_x**2 + grad_y**2)\n",
    "    \n",
    "    # Apply threshold to the gradient magnitude\n",
    "    edge_threshold = 50\n",
    "    edges = np.uint8(gradient_mag > edge_threshold) * 255\n",
    "    \n",
    "    return edges"
   ]
  },
  {
   "cell_type": "code",
   "execution_count": 17,
   "metadata": {},
   "outputs": [
    {
     "name": "stdout",
     "output_type": "stream",
     "text": [
      "Pixel at (150, 150): L=135, a=208, b=195\n",
      "Pixel at (2, 2): L=135, a=71, b=183\n"
     ]
    },
    {
     "data": {
      "text/plain": [
       "True"
      ]
     },
     "execution_count": 17,
     "metadata": {},
     "output_type": "execute_result"
    }
   ],
   "source": [
    "# Load the image\n",
    "image_path = \"green_hues/image_0_hue_250.jpg\"\n",
    "image = cv2.imread(image_path)\n",
    "\n",
    "# Apply colored edge detection\n",
    "edges = color_edge_detection(image)\n",
    "\n",
    "# Define the folder to save the edge-detected image\n",
    "edges_folder = \"distinct_colors\"\n",
    "\n",
    "# Save the edge-detected image\n",
    "edges_filename = os.path.basename(image_path).replace(\".jpg\", \"thr3.jpg\")\n",
    "cv2.imwrite(os.path.join(edges_folder, edges_filename), edges)"
   ]
  }
 ],
 "metadata": {
  "kernelspec": {
   "display_name": "Python 3.9.6 64-bit",
   "language": "python",
   "name": "python3"
  },
  "language_info": {
   "codemirror_mode": {
    "name": "ipython",
    "version": 3
   },
   "file_extension": ".py",
   "mimetype": "text/x-python",
   "name": "python",
   "nbconvert_exporter": "python",
   "pygments_lexer": "ipython3",
   "version": "3.9.6"
  },
  "orig_nbformat": 4,
  "vscode": {
   "interpreter": {
    "hash": "31f2aee4e71d21fbe5cf8b01ff0e069b9275f58929596ceb00d14d90e3e16cd6"
   }
  }
 },
 "nbformat": 4,
 "nbformat_minor": 2
}
