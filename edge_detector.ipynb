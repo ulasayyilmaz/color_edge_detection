{
 "cells": [
  {
   "cell_type": "code",
   "execution_count": 1,
   "metadata": {},
   "outputs": [],
   "source": [
    "import cv2\n",
    "import numpy as np\n",
    "import os"
   ]
  },
  {
   "cell_type": "code",
   "execution_count": 2,
   "metadata": {},
   "outputs": [],
   "source": [
    "def color_edge_detection(image):\n",
    "    # Convert the image to CIELAB color space\n",
    "    lab_image = cv2.cvtColor(image, cv2.COLOR_BGR2Lab)\n",
    "\n",
    "    # L1, a1, b1 = lab_image[150, 150]\n",
    "    # print(f\"Pixel at ({150}, {150}): L={L1}, a={a1}, b={b1}\")\n",
    "\n",
    "    # L2, a2, b2 = lab_image[2, 2]\n",
    "    # print(f\"Pixel at ({2}, {2}): L={L2}, a={a2}, b={b2}\")\n",
    "    \n",
    "    # Compute gradients for each color channel\n",
    "    grad_x = cv2.Sobel(lab_image[:,:,0], cv2.CV_64F, 1, 0, ksize=3)\n",
    "    grad_y = cv2.Sobel(lab_image[:,:,0], cv2.CV_64F, 0, 1, ksize=3)\n",
    "    gradient_mag = np.sqrt(grad_x**2 + grad_y**2)\n",
    "    \n",
    "    # Apply threshold to the gradient magnitude\n",
    "    edge_threshold = 50\n",
    "    edges = np.uint8(gradient_mag > edge_threshold) * 255\n",
    "    \n",
    "    return edges"
   ]
  },
  {
   "cell_type": "code",
   "execution_count": 7,
   "metadata": {},
   "outputs": [],
   "source": [
    "# Directory paths\n",
    "image_folder = \"yellow_hues\"\n",
    "output_folder = \"yellow_edges\"\n",
    "# List all files in the image folder\n",
    "image_files = os.listdir(image_folder)\n",
    "\n",
    "\n",
    "# Loop through each image file\n",
    "for filename in image_files:\n",
    "    # Read the image\n",
    "    image_path = os.path.join(image_folder, filename)\n",
    "    image = cv2.imread(image_path)\n",
    "    \n",
    "    # Apply colored edge detection\n",
    "    edges = color_edge_detection(image)\n",
    "    \n",
    "    # Save the edge-detected image to the output folder\n",
    "    output_path = os.path.join(output_folder, f\"{os.path.splitext(filename)[0]}_thr50_edges.jpg\")\n",
    "    cv2.imwrite(output_path, edges)"
   ]
  }
 ],
 "metadata": {
  "kernelspec": {
   "display_name": "Python 3.9.6 64-bit",
   "language": "python",
   "name": "python3"
  },
  "language_info": {
   "codemirror_mode": {
    "name": "ipython",
    "version": 3
   },
   "file_extension": ".py",
   "mimetype": "text/x-python",
   "name": "python",
   "nbconvert_exporter": "python",
   "pygments_lexer": "ipython3",
   "version": "3.9.6"
  },
  "orig_nbformat": 4,
  "vscode": {
   "interpreter": {
    "hash": "31f2aee4e71d21fbe5cf8b01ff0e069b9275f58929596ceb00d14d90e3e16cd6"
   }
  }
 },
 "nbformat": 4,
 "nbformat_minor": 2
}
